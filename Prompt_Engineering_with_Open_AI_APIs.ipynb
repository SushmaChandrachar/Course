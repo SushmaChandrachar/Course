{
  "cells": [
    {
      "cell_type": "markdown",
      "metadata": {
        "id": "view-in-github",
        "colab_type": "text"
      },
      "source": [
        "<a href=\"https://colab.research.google.com/github/SushmaChandrachar/Course/blob/master/Prompt_Engineering_with_Open_AI_APIs.ipynb\" target=\"_parent\"><img src=\"https://colab.research.google.com/assets/colab-badge.svg\" alt=\"Open In Colab\"/></a>"
      ]
    },
    {
      "cell_type": "code",
      "execution_count": 1,
      "metadata": {
        "colab": {
          "base_uri": "https://localhost:8080/"
        },
        "id": "R7Xodm-rzIWE",
        "outputId": "e5e75321-71ee-485b-d821-3f372cc2a35b"
      },
      "outputs": [
        {
          "output_type": "stream",
          "name": "stdout",
          "text": [
            "Requirement already satisfied: openai in /usr/local/lib/python3.10/dist-packages (1.54.4)\n",
            "Requirement already satisfied: anyio<5,>=3.5.0 in /usr/local/lib/python3.10/dist-packages (from openai) (3.7.1)\n",
            "Requirement already satisfied: distro<2,>=1.7.0 in /usr/local/lib/python3.10/dist-packages (from openai) (1.9.0)\n",
            "Requirement already satisfied: httpx<1,>=0.23.0 in /usr/local/lib/python3.10/dist-packages (from openai) (0.27.2)\n",
            "Requirement already satisfied: jiter<1,>=0.4.0 in /usr/local/lib/python3.10/dist-packages (from openai) (0.7.1)\n",
            "Requirement already satisfied: pydantic<3,>=1.9.0 in /usr/local/lib/python3.10/dist-packages (from openai) (2.9.2)\n",
            "Requirement already satisfied: sniffio in /usr/local/lib/python3.10/dist-packages (from openai) (1.3.1)\n",
            "Requirement already satisfied: tqdm>4 in /usr/local/lib/python3.10/dist-packages (from openai) (4.66.6)\n",
            "Requirement already satisfied: typing-extensions<5,>=4.11 in /usr/local/lib/python3.10/dist-packages (from openai) (4.12.2)\n",
            "Requirement already satisfied: idna>=2.8 in /usr/local/lib/python3.10/dist-packages (from anyio<5,>=3.5.0->openai) (3.10)\n",
            "Requirement already satisfied: exceptiongroup in /usr/local/lib/python3.10/dist-packages (from anyio<5,>=3.5.0->openai) (1.2.2)\n",
            "Requirement already satisfied: certifi in /usr/local/lib/python3.10/dist-packages (from httpx<1,>=0.23.0->openai) (2024.8.30)\n",
            "Requirement already satisfied: httpcore==1.* in /usr/local/lib/python3.10/dist-packages (from httpx<1,>=0.23.0->openai) (1.0.7)\n",
            "Requirement already satisfied: h11<0.15,>=0.13 in /usr/local/lib/python3.10/dist-packages (from httpcore==1.*->httpx<1,>=0.23.0->openai) (0.14.0)\n",
            "Requirement already satisfied: annotated-types>=0.6.0 in /usr/local/lib/python3.10/dist-packages (from pydantic<3,>=1.9.0->openai) (0.7.0)\n",
            "Requirement already satisfied: pydantic-core==2.23.4 in /usr/local/lib/python3.10/dist-packages (from pydantic<3,>=1.9.0->openai) (2.23.4)\n"
          ]
        }
      ],
      "source": [
        "!pip install openai"
      ]
    },
    {
      "cell_type": "code",
      "execution_count": 13,
      "metadata": {
        "id": "tSJuIzZ9zTos"
      },
      "outputs": [],
      "source": [
        "from google.colab import userdata\n",
        "OPENAI_API_KEY = userdata.get('api_project_key_aug')"
      ]
    },
    {
      "cell_type": "code",
      "execution_count": 14,
      "metadata": {
        "id": "uhl8TYxezlRV"
      },
      "outputs": [],
      "source": [
        "import openai\n",
        "openai.api_key = OPENAI_API_KEY"
      ]
    },
    {
      "cell_type": "markdown",
      "source": [
        "# Prompt Engineering with ChatGPT API"
      ],
      "metadata": {
        "id": "UcFRxe517yzK"
      }
    },
    {
      "cell_type": "markdown",
      "source": [
        "Here are the few popular models available from https://platform.openai.com/docs/models/overview\n",
        "\n",
        "*   gpt-4o\n",
        "*   gpt-4o-mini"
      ],
      "metadata": {
        "id": "H7eho-9_71LL"
      }
    },
    {
      "cell_type": "code",
      "source": [
        "model ='gpt-3.5-turbo'"
      ],
      "metadata": {
        "id": "IH5wSjcp7sQ4"
      },
      "execution_count": 15,
      "outputs": []
    },
    {
      "cell_type": "markdown",
      "source": [
        "Each message in the list has two properties: role and content.\n",
        "\n",
        "* The 'role' can take one of three values: 'system', 'user' or the 'assistant'\n",
        "\n",
        "* The 'content' contains the text of the message from the role."
      ],
      "metadata": {
        "id": "9BMf3Nnw79jI"
      }
    },
    {
      "cell_type": "markdown",
      "source": [
        "## Different Roles\n",
        "\n",
        "User role defines the input task/query provided by the user\n",
        "\n",
        "we can also notice the number of tokens used in the response generated"
      ],
      "metadata": {
        "id": "_6lD3deF8NMc"
      }
    },
    {
      "cell_type": "code",
      "source": [
        "messages= [{'role':'user', 'content':'tell me a joke'}]\n",
        "response = openai.chat.completions.create(model=model, messages=messages)"
      ],
      "metadata": {
        "id": "WqmRFyJD76PL"
      },
      "execution_count": 16,
      "outputs": []
    },
    {
      "cell_type": "code",
      "source": [
        "print(response)"
      ],
      "metadata": {
        "colab": {
          "base_uri": "https://localhost:8080/"
        },
        "id": "QOYDU4Dr8K2q",
        "outputId": "f5b63d29-3b8c-488a-93be-ecd466f795c6"
      },
      "execution_count": 17,
      "outputs": [
        {
          "output_type": "stream",
          "name": "stdout",
          "text": [
            "ChatCompletion(id='chatcmpl-AaoVLFJL46MzAnOEgPd5dYPIQafGR', choices=[Choice(finish_reason='stop', index=0, logprobs=None, message=ChatCompletionMessage(content=\"Why couldn't the bicycle find its way home? It lost its bearings!\", refusal=None, role='assistant', audio=None, function_call=None, tool_calls=None))], created=1733337311, model='gpt-3.5-turbo-0125', object='chat.completion', service_tier=None, system_fingerprint=None, usage=CompletionUsage(completion_tokens=15, prompt_tokens=11, total_tokens=26, completion_tokens_details=CompletionTokensDetails(accepted_prediction_tokens=0, audio_tokens=0, reasoning_tokens=0, rejected_prediction_tokens=0), prompt_tokens_details=PromptTokensDetails(audio_tokens=0, cached_tokens=0)))\n"
          ]
        }
      ]
    },
    {
      "cell_type": "code",
      "source": [
        "print(response.choices[0].message.content)"
      ],
      "metadata": {
        "colab": {
          "base_uri": "https://localhost:8080/"
        },
        "id": "qhkMOyt59K4b",
        "outputId": "9ba4ed30-ed28-47f8-de40-937f4576c787"
      },
      "execution_count": 18,
      "outputs": [
        {
          "output_type": "stream",
          "name": "stdout",
          "text": [
            "Why couldn't the bicycle find its way home? It lost its bearings!\n"
          ]
        }
      ]
    },
    {
      "cell_type": "code",
      "source": [
        "messages= [{'role':'system', 'content':'You are an assistant that speaks like Shakespeare.'},\n",
        "{'role':'user', 'content':'tell me a joke'}]"
      ],
      "metadata": {
        "id": "8XFz9q3f9c7q"
      },
      "execution_count": 19,
      "outputs": []
    },
    {
      "cell_type": "code",
      "source": [
        "response = openai.chat.completions.create(model=model, messages=messages)"
      ],
      "metadata": {
        "id": "EfOAC2vk9q58"
      },
      "execution_count": 21,
      "outputs": []
    },
    {
      "cell_type": "code",
      "source": [
        "print(response.choices[0].message.content)"
      ],
      "metadata": {
        "colab": {
          "base_uri": "https://localhost:8080/"
        },
        "id": "OEcvZnrV9mjB",
        "outputId": "e065011e-2c80-44a8-93da-8b0e1822cd02"
      },
      "execution_count": 22,
      "outputs": [
        {
          "output_type": "stream",
          "name": "stdout",
          "text": [
            "Why did the scarecrow win an award? For being outstanding in his field!\n"
          ]
        }
      ]
    },
    {
      "cell_type": "markdown",
      "source": [
        "Lets define the function accepts the prompt as an input and returns the response"
      ],
      "metadata": {
        "id": "ONyQx4J2917b"
      }
    },
    {
      "cell_type": "code",
      "source": [
        "def get_response(prompt, model=model):\n",
        "    messages = [{\"role\":\"user\",\"content\":prompt}]\n",
        "    response = openai.chat.completions.create(\n",
        "        model=model,\n",
        "        messages=messages\n",
        "     )\n",
        "    return response.choices[0].message.content"
      ],
      "metadata": {
        "id": "LfxSVg0-9odv"
      },
      "execution_count": 23,
      "outputs": []
    },
    {
      "cell_type": "code",
      "source": [
        "prompt = \"Write a blog post on Low Rank adaptation techinique\"\n",
        "print(get_response(prompt))"
      ],
      "metadata": {
        "colab": {
          "base_uri": "https://localhost:8080/"
        },
        "id": "Y9MDOWin9_K6",
        "outputId": "3bd653e0-21f7-46e7-c208-06b9d91012ee"
      },
      "execution_count": 24,
      "outputs": [
        {
          "output_type": "stream",
          "name": "stdout",
          "text": [
            "In machine learning, low rank adaptation techniques are used to improve the performance of models by reducing their complexity and improving their generalization abilities. These techniques are especially useful when dealing with large datasets with high feature dimensionality, as they help simplify the model without sacrificing accuracy.\n",
            "\n",
            "One common low rank adaptation technique is singular value decomposition (SVD), which decomposes a matrix into three matrices representing the singular values, left singular vectors, and right singular vectors. By retaining only the top k singular values, where k is a parameter chosen by the user, SVD effectively reduces the rank of the original matrix and removes noise from the data.\n",
            "\n",
            "Another popular low rank adaptation technique is principal component analysis (PCA), which identifies the most important components of a dataset by projecting it onto a lower dimensional space. By retaining only the principal components that explain the most variance in the data, PCA allows for dimensionality reduction while preserving as much information as possible.\n",
            "\n",
            "Low rank adaptation techniques can also be used to fine-tune pre-trained models for specific tasks. This is especially useful in transfer learning, where a model trained on a large dataset is fine-tuned on a smaller, domain-specific dataset. By adapting the model's parameters to the new data using low rank techniques, researchers can achieve better performance and faster convergence.\n",
            "\n",
            "Overall, low rank adaptation techniques are valuable tools in machine learning for improving model performance, reducing complexity, and enhancing generalization abilities. By incorporating these techniques into their workflows, researchers can create more robust and efficient models for a wide range of applications.\n"
          ]
        }
      ]
    },
    {
      "cell_type": "code",
      "source": [
        "prompt = \"Write a short blog post on Low Rank adaptation techinique limiting to 100 words\"\n",
        "print(get_response(prompt))"
      ],
      "metadata": {
        "colab": {
          "base_uri": "https://localhost:8080/"
        },
        "id": "row7f8G_-LCW",
        "outputId": "64f9a7e0-559e-4699-d77a-2aed4b9c9109"
      },
      "execution_count": 25,
      "outputs": [
        {
          "output_type": "stream",
          "name": "stdout",
          "text": [
            "Low Rank Adaptation Technique is a method used in machine learning to reduce the complexity of models by restricting them to a lower rank. By doing so, the model becomes more interpretable and easier to handle, especially when dealing with high-dimensional data sets. This technique can help improve computational efficiency and reduce overfitting. However, it is important to note that limiting the rank too much may lead to underfitting. Overall, Low Rank Adaptation Technique is a valuable tool in the machine learning toolbox for simplifying models while still maintaining their effectiveness.\n"
          ]
        }
      ]
    },
    {
      "cell_type": "code",
      "source": [
        "prompt = \"Write a blog post on Low Rank adaptation techinique for beginner level audience who are starting their career in Data Science. Limit the blog post to 200 words\"\n",
        "print(get_response(prompt))"
      ],
      "metadata": {
        "colab": {
          "base_uri": "https://localhost:8080/"
        },
        "id": "drSZYO7o-eN2",
        "outputId": "79c5a046-5e1d-4103-8b4a-6f08087b5d25"
      },
      "execution_count": 26,
      "outputs": [
        {
          "output_type": "stream",
          "name": "stdout",
          "text": [
            "If you're just starting out in your data science career, you may have heard about the concept of Low Rank Adaptation technique. This technique is used to reduce the complexity of data while preserving its important features, making it easier to analyze and interpret.\n",
            "\n",
            "Low Rank Adaptation involves decomposing a high-rank matrix into two or more lower-rank matrices, which helps in simplifying the data without losing too much information. This technique is commonly used in tasks such as image and signal processing, recommendation systems, and data compression.\n",
            "\n",
            "To apply Low Rank Adaptation, beginners should start by understanding the basic principles of matrix decomposition, such as Singular Value Decomposition (SVD) or Principal Component Analysis (PCA). These techniques can help in identifying the dominant features of the data and reducing its dimensionality.\n",
            "\n",
            "By mastering Low Rank Adaptation, beginners can improve their data analysis skills and make better decisions based on clearer insights. It's a valuable technique to add to your data science toolkit as you progress in your career.\n"
          ]
        }
      ]
    },
    {
      "cell_type": "code",
      "source": [
        "prompt = '''Write a blog post on Low Rank adaptation techinique for beginner level audience starting their career in data science.\n",
        "The blog must include the introduction,\n",
        "learning objectives,\n",
        "table of contents,\n",
        "types of Low Rank adaptation techinique\n",
        "and conclusion.\n",
        "Limit the no. of words to 500.'''\n",
        "\n",
        "print(get_response(prompt))"
      ],
      "metadata": {
        "colab": {
          "base_uri": "https://localhost:8080/"
        },
        "id": "1VZ_uCWj-jx2",
        "outputId": "93e9893b-6a04-4e38-d8da-a07b8c4c4de7"
      },
      "execution_count": 27,
      "outputs": [
        {
          "output_type": "stream",
          "name": "stdout",
          "text": [
            "**Title: Understanding Low Rank Adaptation Techniques in Data Science**\n",
            "\n",
            "Introduction:\n",
            "As you begin your journey in data science, it is important to familiarize yourself with various techniques that can enhance your skills and knowledge in the field. One such technique that is commonly used in data analysis is Low Rank adaptation.\n",
            "\n",
            "Learning Objectives:\n",
            "- Understand the concept of Low Rank adaptation\n",
            "- Learn about the different types of Low Rank adaptation techniques\n",
            "- Explore how these techniques are used in data analysis\n",
            "\n",
            "Table of Contents:\n",
            "1. What is Low Rank adaptation?\n",
            "2. Types of Low Rank adaptation techniques\n",
            "   a. Principal Component Analysis (PCA)\n",
            "   b. Singular Value Decomposition (SVD)\n",
            "3. How Low Rank adaptation techniques are used in data science\n",
            "4. Conclusion\n",
            "\n",
            "Types of Low Rank adaptation techniques:\n",
            "\n",
            "1. Principal Component Analysis (PCA):\n",
            "PCA is a popular technique used for dimensionality reduction in data analysis. It works by transforming the data into a new coordinate system where the axes are the principal components of variation in the data. By retaining only the most important components, PCA helps reduce the computational complexity of the data while preserving its important features.\n",
            "\n",
            "2. Singular Value Decomposition (SVD):\n",
            "SVD is another important technique in Low Rank adaptation that is used for matrix factorization. It decomposes a matrix into three matrices - U, Σ, and V - which represent the left singular vectors, singular values, and right singular vectors respectively. SVD is used for dimensionality reduction, noise reduction, and pattern recognition in data analysis.\n",
            "\n",
            "How Low Rank adaptation techniques are used in data science:\n",
            "Low Rank adaptation techniques are widely used in various applications in data science such as image processing, natural language processing, recommender systems, and more. These techniques help in extracting meaningful insights from large datasets, reducing noise, and improving the performance of machine learning models.\n",
            "\n",
            "Conclusion:\n",
            "As you embark on your career in data science, understanding Low Rank adaptation techniques can be a valuable asset. By mastering techniques like PCA and SVD, you will be able to effectively analyze large datasets, reduce computational complexity, and make more informed decisions based on data. Keep learning and exploring the world of data science to enhance your skills and excel in this field.\n"
          ]
        }
      ]
    },
    {
      "cell_type": "code",
      "source": [
        "prompt = '''Write a SEO friendly blog post on Low Rank adaptation techinique for beginner level audience starting their career in data science.\n",
        "The blog must include the introduction,\n",
        "learning objectives,\n",
        "table of contents,\n",
        "types of Low Rank adaptation techinique\n",
        "and conclusion.\n",
        "Limit the no. of words to 500.'''\n",
        "\n",
        "print(get_response(prompt))"
      ],
      "metadata": {
        "colab": {
          "base_uri": "https://localhost:8080/"
        },
        "id": "XBNVeGKp-vJy",
        "outputId": "791cdef4-38fd-4255-b501-7cd0ddff04c8"
      },
      "execution_count": 28,
      "outputs": [
        {
          "output_type": "stream",
          "name": "stdout",
          "text": [
            "Introduction:\n",
            "As a beginner in the field of data science, it is important to understand different techniques that can help you effectively work with large datasets. One such technique is Low Rank adaptation, which can help you reduce the dimensionality of your data while retaining important information. In this blog post, we will explore the basics of Low Rank adaptation and its types for beginners in data science.\n",
            "\n",
            "Learning Objectives:\n",
            "- Understand the concept of Low Rank adaptation\n",
            "- Learn about different types of Low Rank adaptation techniques\n",
            "- Gain knowledge on how to apply these techniques to real-world datasets\n",
            "\n",
            "Table of Contents:\n",
            "1. Introduction to Low Rank adaptation\n",
            "2. Types of Low Rank adaptation techniques\n",
            "   a. Singular Value Decomposition\n",
            "   b. Principal Component Analysis\n",
            "   c. Tucker Decomposition\n",
            "3. Applying Low Rank adaptation techniques\n",
            "4. Conclusion\n",
            "\n",
            "Types of Low Rank adaptation techniques:\n",
            "1. Singular Value Decomposition (SVD):\n",
            "SVD is a matrix factorization technique that breaks down a matrix into three separate matrices - U, Σ, and V. This technique is commonly used for dimensionality reduction and can be applied to various data types.\n",
            "\n",
            "2. Principal Component Analysis (PCA):\n",
            "PCA is a statistical technique that transforms the original variables into a new set of variables called principal components. These components are linear combinations of the original variables and capture the maximum variance in the data.\n",
            "\n",
            "3. Tucker Decomposition:\n",
            "Tucker Decomposition is another popular low rank adaptation technique that decomposes a tensor into a core tensor and factor matrices. This technique is useful for analyzing multidimensional data and can help in reducing the complexity of large datasets.\n",
            "\n",
            "Applying Low Rank adaptation techniques:\n",
            "To apply Low Rank adaptation techniques to a dataset, you can start by selecting the appropriate technique based on the nature of your data. Then, use software tools like Python libraries (NumPy, Pandas) or R to implement the chosen technique. Finally, analyze the results and interpret the findings to gain insights from the reduced-dimensional data.\n",
            "\n",
            "Conclusion:\n",
            "Low Rank adaptation techniques are valuable tools for data scientists to effectively work with large datasets and reduce dimensionality while preserving important information. By understanding and applying techniques like SVD, PCA, and Tucker Decomposition, beginners can enhance their skills in data analysis and make informed decisions based on their findings. Start exploring these techniques in your data science projects to unlock new opportunities in the field.\n"
          ]
        }
      ]
    },
    {
      "cell_type": "code",
      "source": [
        "prompt = '''Include 10 FAQs for the above blog post along with the answers'''\n",
        "\n",
        "\n",
        "print(get_response(prompt))"
      ],
      "metadata": {
        "colab": {
          "base_uri": "https://localhost:8080/"
        },
        "id": "tukxjQ1Q_Bde",
        "outputId": "9fd0d81d-473f-4f6a-c2cf-d4bb7f150214"
      },
      "execution_count": 29,
      "outputs": [
        {
          "output_type": "stream",
          "name": "stdout",
          "text": [
            "1. What are some common misconceptions about self-care?\n",
            "- Some common misconceptions about self-care include the idea that it's selfish or self-indulgent, when in reality it is essential for maintaining emotional, mental, and physical well-being.\n",
            "\n",
            "2. How can I incorporate self-care into my daily routine?\n",
            "- You can incorporate self-care into your daily routine by setting aside time each day for activities that bring you joy and relaxation, such as reading a book, taking a bath, or going for a walk.\n",
            "\n",
            "3. Is self-care only important when I am feeling stressed or overwhelmed?\n",
            "- Self-care is important for maintaining overall health and well-being, not just during times of stress or overwhelm. Regular self-care practices can help prevent burnout and promote a balanced and fulfilling life.\n",
            "\n",
            "4. How can I prioritize self-care when I have a busy schedule?\n",
            "- Prioritizing self-care when you have a busy schedule can be challenging, but it is essential for maintaining your mental and emotional health. Try to carve out small pockets of time each day for self-care activities, even if it's just a few minutes of deep breathing or a quick walk outside.\n",
            "\n",
            "5. What are some simple self-care practices I can incorporate into my day?\n",
            "- Some simple self-care practices you can incorporate into your day include taking breaks to stretch, practicing mindfulness or meditation, writing in a journal, or enjoying a favorite hobby.\n",
            "\n",
            "6. How can I overcome feelings of guilt or shame around practicing self-care?\n",
            "- Overcoming feelings of guilt or shame around practicing self-care can be a process, but it's important to remind yourself that taking care of yourself is not selfish. Remember that you deserve to prioritize your own well-being and happiness.\n",
            "\n",
            "7. Can self-care look different for everyone?\n",
            "- Yes, self-care can look different for everyone. What works for one person may not work for another, so it's important to find activities and practices that resonate with you and make you feel rejuvenated and refreshed.\n",
            "\n",
            "8. How can self-care help improve my relationships with others?\n",
            "- Practicing self-care can help improve your relationships with others by boosting your mood, reducing stress, and increasing your emotional resilience. When you take care of yourself, you are better equipped to show up as your best self in your interactions with others.\n",
            "\n",
            "9. What are some warning signs that I may need to prioritize self-care?\n",
            "- Some warning signs that you may need to prioritize self-care include feeling constantly fatigued, experiencing frequent headaches or muscle tension, feeling irritable or easily overwhelmed, or having trouble sleeping.\n",
            "\n",
            "10. How can I create a self-care routine that works for me?\n",
            "- To create a self-care routine that works for you, start by identifying activities that bring you joy, relaxation, and a sense of calm. Experiment with different practices and schedules until you find a routine that feels fulfilling and sustainable for you.\n"
          ]
        }
      ]
    },
    {
      "cell_type": "markdown",
      "source": [
        "So the context of previous messages are lost.\n",
        "\n",
        "Now lets enable conversational mode ⁉\n",
        "\n",
        "# Enabling Conversation with ChatGPT API"
      ],
      "metadata": {
        "id": "xb4TCRdB_NHI"
      }
    },
    {
      "cell_type": "code",
      "source": [
        "first_prompt = '''Write a SEO friendly blog post on Low Rank adaptation techinique for beginner level audience starting their career in data science.\n",
        "The blog must include the introduction,\n",
        "learning objectives,\n",
        "table of contents,\n",
        "types of Low Rank adaptation techinique\n",
        "and conclusion.\n",
        "Limit the no. of words to 500.'''"
      ],
      "metadata": {
        "id": "67oRWYbo_KzN"
      },
      "execution_count": 30,
      "outputs": []
    },
    {
      "cell_type": "code",
      "source": [
        "first_prompt_output = '''Introduction:\n",
        "As a beginner in the field of data science, it is important to understand different techniques that can help you effectively work with large datasets. One such technique is Low Rank adaptation, which can help you reduce the dimensionality of your data while retaining important information. In this blog post, we will explore the basics of Low Rank adaptation and its types for beginners in data science.\n",
        "\n",
        "Learning Objectives:\n",
        "- Understand the concept of Low Rank adaptation\n",
        "- Learn about different types of Low Rank adaptation techniques\n",
        "- Gain knowledge on how to apply these techniques to real-world datasets\n",
        "\n",
        "Table of Contents:\n",
        "1. Introduction to Low Rank adaptation\n",
        "2. Types of Low Rank adaptation techniques\n",
        "   a. Singular Value Decomposition\n",
        "   b. Principal Component Analysis\n",
        "   c. Tucker Decomposition\n",
        "3. Applying Low Rank adaptation techniques\n",
        "4. Conclusion\n",
        "\n",
        "Types of Low Rank adaptation techniques:\n",
        "1. Singular Value Decomposition (SVD):\n",
        "SVD is a matrix factorization technique that breaks down a matrix into three separate matrices - U, Σ, and V. This technique is commonly used for dimensionality reduction and can be applied to various data types.\n",
        "\n",
        "2. Principal Component Analysis (PCA):\n",
        "PCA is a statistical technique that transforms the original variables into a new set of variables called principal components. These components are linear combinations of the original variables and capture the maximum variance in the data.\n",
        "\n",
        "3. Tucker Decomposition:\n",
        "Tucker Decomposition is another popular low rank adaptation technique that decomposes a tensor into a core tensor and factor matrices. This technique is useful for analyzing multidimensional data and can help in reducing the complexity of large datasets.\n",
        "\n",
        "Applying Low Rank adaptation techniques:\n",
        "To apply Low Rank adaptation techniques to a dataset, you can start by selecting the appropriate technique based on the nature of your data. Then, use software tools like Python libraries (NumPy, Pandas) or R to implement the chosen technique. Finally, analyze the results and interpret the findings to gain insights from the reduced-dimensional data.\n",
        "\n",
        "Conclusion:\n",
        "Low Rank adaptation techniques are valuable tools for data scientists to effectively work with large datasets and reduce dimensionality while preserving important information. By understanding and applying techniques like SVD, PCA, and Tucker Decomposition, beginners can enhance their skills in data analysis and make informed decisions based on their findings. Start exploring these techniques in your data science projects to unlock new opportunities in the field.'''"
      ],
      "metadata": {
        "id": "8hnA4-L1_dZ0"
      },
      "execution_count": 31,
      "outputs": []
    },
    {
      "cell_type": "code",
      "source": [
        "second_prompt = '''Include 10 FAQs for the above blog post along with the answers'''"
      ],
      "metadata": {
        "id": "4JILaY83_nJE"
      },
      "execution_count": 32,
      "outputs": []
    },
    {
      "cell_type": "code",
      "source": [
        "messages = [{'role':'user','content':first_prompt},\n",
        "            {'role':'assistant','content':first_prompt_output},\n",
        "            {'role':'user','content':second_prompt}\n",
        "]"
      ],
      "metadata": {
        "id": "eazmBVI__tnH"
      },
      "execution_count": 33,
      "outputs": []
    },
    {
      "cell_type": "code",
      "source": [
        "response = openai.chat.completions.create(\n",
        "        model=model,\n",
        "        messages=messages\n",
        "     )"
      ],
      "metadata": {
        "id": "bd4nIV7B_ycZ"
      },
      "execution_count": 34,
      "outputs": []
    },
    {
      "cell_type": "code",
      "source": [
        "print(response.choices[0].message.content)"
      ],
      "metadata": {
        "colab": {
          "base_uri": "https://localhost:8080/"
        },
        "id": "SHgQwvbd_58u",
        "outputId": "a6850952-e101-4508-c8e8-d927b444121a"
      },
      "execution_count": 35,
      "outputs": [
        {
          "output_type": "stream",
          "name": "stdout",
          "text": [
            "1. What is Low Rank adaptation?\n",
            "Low Rank adaptation is a technique used in data science to reduce the dimensionality of large datasets while preserving important information.\n",
            "\n",
            "2. Why is Low Rank adaptation important for beginners in data science?\n",
            "Low Rank adaptation techniques help beginners work more efficiently with large datasets and make data analysis easier by reducing the complexity of the data.\n",
            "\n",
            "3. What are the learning objectives of this blog post?\n",
            "The learning objectives include understanding Low Rank adaptation, learning about different types of techniques, and gaining knowledge on how to apply these techniques to real-world datasets.\n",
            "\n",
            "4. How does Singular Value Decomposition (SVD) work?\n",
            "SVD breaks down a matrix into three separate matrices - U, Σ, and V - and helps in dimensionality reduction by capturing important information in the data.\n",
            "\n",
            "5. What is the purpose of Principal Component Analysis (PCA)?\n",
            "PCA is used to transform the original variables into principal components that capture the maximum variance in the data, thus reducing its dimensionality.\n",
            "\n",
            "6. When should Tucker Decomposition be used?\n",
            "Tucker Decomposition is useful when working with multidimensional data and can help in reducing the complexity of large datasets.\n",
            "\n",
            "7. How can Low Rank adaptation techniques be applied to real-world datasets?\n",
            "Low Rank adaptation techniques can be applied by selecting the appropriate technique based on the nature of the data, implementing it using tools like Python or R, and analyzing the results to gain insights.\n",
            "\n",
            "8. What are some common software tools used for implementing Low Rank adaptation techniques?\n",
            "Popular software tools for implementing Low Rank adaptation techniques include Python libraries like NumPy and Pandas, as well as R for data analysis.\n",
            "\n",
            "9. What are the benefits of using Low Rank adaptation techniques in data science projects?\n",
            "The benefits include reducing the complexity of the data, improving efficiency in data analysis, and making informed decisions based on findings from reduced-dimensional data.\n",
            "\n",
            "10. How can beginners start exploring Low Rank adaptation techniques in their data science projects?\n",
            "Beginners can start by learning the basics of SVD, PCA, and Tucker Decomposition, applying these techniques to sample datasets, and gradually incorporating them into their own data science projects for practice and learning.\n"
          ]
        }
      ]
    },
    {
      "cell_type": "markdown",
      "source": [
        "## Define the Chat Function\n"
      ],
      "metadata": {
        "id": "P1amhJxkAFpm"
      }
    },
    {
      "cell_type": "code",
      "source": [
        "history=[]\n",
        "\n",
        "def chat(user_prompt,is_clear=False):\n",
        "\n",
        "  global history\n",
        "  if is_clear:\n",
        "    history=[]\n",
        "\n",
        "  input_message={'role':'user','content':user_prompt}\n",
        "  history.append(input_message)\n",
        "\n",
        "  response = openai.chat.completions.create(\n",
        "        model=model,\n",
        "        messages=history\n",
        "     )\n",
        "\n",
        "  response=response.choices[0].message.content\n",
        "  response_message = {\"role\":\"assistant\",\"content\":response}\n",
        "  history.append(response_message)\n",
        "  return response"
      ],
      "metadata": {
        "id": "2FEI7UUkAByD"
      },
      "execution_count": 42,
      "outputs": []
    },
    {
      "cell_type": "code",
      "source": [
        "for message in history:\n",
        "  print(message)"
      ],
      "metadata": {
        "id": "pGMHScQ2A_0e"
      },
      "execution_count": 44,
      "outputs": []
    },
    {
      "cell_type": "code",
      "source": [
        "user_prompt = \"Write a welcome message for Art of living\"\n",
        "print(chat(user_prompt))"
      ],
      "metadata": {
        "colab": {
          "base_uri": "https://localhost:8080/"
        },
        "id": "32PZpNVlAS20",
        "outputId": "8c02843a-2f4e-4b74-b00a-77e9f192a978"
      },
      "execution_count": 45,
      "outputs": [
        {
          "output_type": "stream",
          "name": "stdout",
          "text": [
            "Welcome to the Art of Living community! We are thrilled to have you join us on this journey to inner peace, well-being, and self-discovery. Here, you will find wisdom, practices, and techniques to help you lead a more fulfilling and balanced life. So, take a deep breath, let go of any stress or worries, and immerse yourself in the beauty of the present moment. We are here to support and encourage you every step of the way. Namaste.\n"
          ]
        }
      ]
    },
    {
      "cell_type": "code",
      "source": [
        "user_prompt = \"Along with the welcome message, share some specific next steps the user can take to interact with the community.\"\n",
        "print(chat(user_prompt))"
      ],
      "metadata": {
        "colab": {
          "base_uri": "https://localhost:8080/"
        },
        "id": "hnwaUMj8AdC1",
        "outputId": "13b257a2-f7b4-4b1e-b9e2-13b217a0306b"
      },
      "execution_count": 46,
      "outputs": [
        {
          "output_type": "stream",
          "name": "stdout",
          "text": [
            "Welcome to the Art of Living community! We are thrilled to have you here. To start your journey with us, here are some specific next steps you can take to interact with the community and deepen your experience:\n",
            "\n",
            "1. Join our online forums and discussion groups to connect with like-minded individuals, share experiences, and ask questions.\n",
            "\n",
            "2. Attend our virtual events, workshops, and retreats to learn new tools and practices for personal growth and well-being.\n",
            "\n",
            "3. Explore our library of resources, including articles, videos, and guided meditations, to enhance your understanding and practice of the Art of Living principles.\n",
            "\n",
            "4. Follow us on social media platforms to stay updated on upcoming events, inspirational quotes, and community stories.\n",
            "\n",
            "5. Consider enrolling in one of our online courses or programs to dive deeper into specific topics and skills related to holistic living.\n",
            "\n",
            "We are excited to have you as part of our community and look forward to supporting you on your journey towards a more balanced and joyful life. Namaste.\n"
          ]
        }
      ]
    },
    {
      "cell_type": "code",
      "source": [
        "user_prompt = \"Add a story to this message showing the impact of community and learning in the life of a community member. End the message with the specific actions outlined in the previous message\"\n",
        "print(chat(user_prompt))"
      ],
      "metadata": {
        "colab": {
          "base_uri": "https://localhost:8080/"
        },
        "id": "UpvuFZyVAltw",
        "outputId": "9d4e1310-0dac-4ee3-8fbf-9a08cff100ba"
      },
      "execution_count": 47,
      "outputs": [
        {
          "output_type": "stream",
          "name": "stdout",
          "text": [
            "Welcome to the Art of Living community! We are thrilled to have you here. \n",
            "\n",
            "Meet Sarah, a long-time member of our community. Sarah was feeling overwhelmed by the demands of her job and personal life, constantly battling stress and anxiety. She decided to attend her first Art of Living workshop, where she learned powerful breathing techniques and mindfulness practices. Through the support and guidance of the community, Sarah found a sense of calm and inner peace that she had never experienced before.\n",
            "\n",
            "Inspired by her transformation, Sarah became an active member of the community, attending retreats, volunteering at events, and sharing her journey with others. She found a sense of belonging and connection that uplifted her spirit and helped her navigate life's challenges with grace and resilience.\n",
            "\n",
            "To start your journey with us, here are some specific next steps you can take to interact with the community and deepen your experience:\n",
            "\n",
            "1. Join our online forums and discussion groups to connect with like-minded individuals, share experiences, and ask questions.\n",
            "\n",
            "2. Attend our virtual events, workshops, and retreats to learn new tools and practices for personal growth and well-being.\n",
            "\n",
            "3. Explore our library of resources, including articles, videos, and guided meditations, to enhance your understanding and practice of the Art of Living principles.\n",
            "\n",
            "4. Follow us on social media platforms to stay updated on upcoming events, inspirational quotes, and community stories.\n",
            "\n",
            "5. Consider enrolling in one of our online courses or programs to dive deeper into specific topics and skills related to holistic living.\n",
            "\n",
            "We are excited to have you as part of our community and look forward to supporting you on your journey towards a more balanced and joyful life. Namaste.\n"
          ]
        }
      ]
    },
    {
      "cell_type": "code",
      "source": [
        "for message in history:\n",
        "  print(message)"
      ],
      "metadata": {
        "colab": {
          "base_uri": "https://localhost:8080/"
        },
        "id": "b2kqLGTUAsgv",
        "outputId": "3bb6da8f-5a0f-4239-90a6-787f51926d0f"
      },
      "execution_count": 48,
      "outputs": [
        {
          "output_type": "stream",
          "name": "stdout",
          "text": [
            "{'role': 'user', 'content': 'Write a welcome message for Art of living'}\n",
            "{'role': 'assistant', 'content': 'Welcome to the Art of Living community! We are thrilled to have you join us on this journey to inner peace, well-being, and self-discovery. Here, you will find wisdom, practices, and techniques to help you lead a more fulfilling and balanced life. So, take a deep breath, let go of any stress or worries, and immerse yourself in the beauty of the present moment. We are here to support and encourage you every step of the way. Namaste.'}\n",
            "{'role': 'user', 'content': 'Along with the welcome message, share some specific next steps the user can take to interact with the community.'}\n",
            "{'role': 'assistant', 'content': 'Welcome to the Art of Living community! We are thrilled to have you here. To start your journey with us, here are some specific next steps you can take to interact with the community and deepen your experience:\\n\\n1. Join our online forums and discussion groups to connect with like-minded individuals, share experiences, and ask questions.\\n\\n2. Attend our virtual events, workshops, and retreats to learn new tools and practices for personal growth and well-being.\\n\\n3. Explore our library of resources, including articles, videos, and guided meditations, to enhance your understanding and practice of the Art of Living principles.\\n\\n4. Follow us on social media platforms to stay updated on upcoming events, inspirational quotes, and community stories.\\n\\n5. Consider enrolling in one of our online courses or programs to dive deeper into specific topics and skills related to holistic living.\\n\\nWe are excited to have you as part of our community and look forward to supporting you on your journey towards a more balanced and joyful life. Namaste.'}\n",
            "{'role': 'user', 'content': 'Add a story to this message showing the impact of community and learning in the life of a community member. End the message with the specific actions outlined in the previous message'}\n",
            "{'role': 'assistant', 'content': \"Welcome to the Art of Living community! We are thrilled to have you here. \\n\\nMeet Sarah, a long-time member of our community. Sarah was feeling overwhelmed by the demands of her job and personal life, constantly battling stress and anxiety. She decided to attend her first Art of Living workshop, where she learned powerful breathing techniques and mindfulness practices. Through the support and guidance of the community, Sarah found a sense of calm and inner peace that she had never experienced before.\\n\\nInspired by her transformation, Sarah became an active member of the community, attending retreats, volunteering at events, and sharing her journey with others. She found a sense of belonging and connection that uplifted her spirit and helped her navigate life's challenges with grace and resilience.\\n\\nTo start your journey with us, here are some specific next steps you can take to interact with the community and deepen your experience:\\n\\n1. Join our online forums and discussion groups to connect with like-minded individuals, share experiences, and ask questions.\\n\\n2. Attend our virtual events, workshops, and retreats to learn new tools and practices for personal growth and well-being.\\n\\n3. Explore our library of resources, including articles, videos, and guided meditations, to enhance your understanding and practice of the Art of Living principles.\\n\\n4. Follow us on social media platforms to stay updated on upcoming events, inspirational quotes, and community stories.\\n\\n5. Consider enrolling in one of our online courses or programs to dive deeper into specific topics and skills related to holistic living.\\n\\nWe are excited to have you as part of our community and look forward to supporting you on your journey towards a more balanced and joyful life. Namaste.\"}\n"
          ]
        }
      ]
    },
    {
      "cell_type": "code",
      "source": [
        "user_prompt = \"Write a message to the community members emphasising the importance of daily learning in Meditation.\"\n",
        "print(chat(user_prompt,True))"
      ],
      "metadata": {
        "colab": {
          "base_uri": "https://localhost:8080/"
        },
        "id": "CfjvZX_tAzRD",
        "outputId": "90c71cf2-97b9-4644-9217-736729ee73cf"
      },
      "execution_count": 49,
      "outputs": [
        {
          "output_type": "stream",
          "name": "stdout",
          "text": [
            "Dear community members,\n",
            "\n",
            "I wanted to take a moment to stress the importance of daily learning in meditation. Meditation is a practice that requires daily dedication and commitment in order to truly reap its benefits. Just like any skill or discipline, consistent practice is key to mastering it.\n",
            "\n",
            "When we make time for daily meditation, we are creating a space for self-reflection, inner peace, and personal growth. It allows us to cultivate mindfulness, increase our self-awareness, and reduce stress and anxiety in our daily lives. By learning and exploring new meditation techniques each day, we can deepen our practice and continue to evolve as individuals.\n",
            "\n",
            "So, I urge you all to prioritize daily learning in meditation. Whether it's trying out a new guided meditation, learning about different meditation traditions, or simply setting aside a few minutes each day for silent contemplation, make it a habit to incorporate learning into your meditation practice.\n",
            "\n",
            "Together, let's commit to showing up for ourselves each day and nurturing our minds, bodies, and spirits through the transformative power of daily meditation practice.\n",
            "\n",
            "With love and light, \n",
            "[Your Name]\n"
          ]
        }
      ]
    },
    {
      "cell_type": "code",
      "source": [
        "history"
      ],
      "metadata": {
        "colab": {
          "base_uri": "https://localhost:8080/"
        },
        "id": "cKOrKiSQA35S",
        "outputId": "95139c8d-4c66-4d00-b282-7a74f1a79179"
      },
      "execution_count": 50,
      "outputs": [
        {
          "output_type": "execute_result",
          "data": {
            "text/plain": [
              "[{'role': 'user',\n",
              "  'content': 'Write a message to the community members emphasising the importance of daily learning in Meditation.'},\n",
              " {'role': 'assistant',\n",
              "  'content': \"Dear community members,\\n\\nI wanted to take a moment to stress the importance of daily learning in meditation. Meditation is a practice that requires daily dedication and commitment in order to truly reap its benefits. Just like any skill or discipline, consistent practice is key to mastering it.\\n\\nWhen we make time for daily meditation, we are creating a space for self-reflection, inner peace, and personal growth. It allows us to cultivate mindfulness, increase our self-awareness, and reduce stress and anxiety in our daily lives. By learning and exploring new meditation techniques each day, we can deepen our practice and continue to evolve as individuals.\\n\\nSo, I urge you all to prioritize daily learning in meditation. Whether it's trying out a new guided meditation, learning about different meditation traditions, or simply setting aside a few minutes each day for silent contemplation, make it a habit to incorporate learning into your meditation practice.\\n\\nTogether, let's commit to showing up for ourselves each day and nurturing our minds, bodies, and spirits through the transformative power of daily meditation practice.\\n\\nWith love and light, \\n[Your Name]\"}]"
            ]
          },
          "metadata": {},
          "execution_count": 50
        }
      ]
    },
    {
      "cell_type": "markdown",
      "source": [
        "# Guidelines and Best Practices for Prompt Engineering"
      ],
      "metadata": {
        "id": "sPd7oEXCByDO"
      }
    },
    {
      "cell_type": "code",
      "source": [
        "def get_response(prompt, temperature=0, model=\"gpt-3.5-turbo\"):\n",
        "\n",
        "    messages = [{\"role\":\"user\",\"content\":prompt}]\n",
        "    response = openai.chat.completions.create(\n",
        "        model=model,\n",
        "        messages=messages,\n",
        "        temperature=temperature)\n",
        "\n",
        "    return response.choices[0].message.content"
      ],
      "metadata": {
        "id": "TOlD1VqWBS-s"
      },
      "execution_count": 51,
      "outputs": []
    },
    {
      "cell_type": "code",
      "source": [],
      "metadata": {
        "id": "M1r4uNIcGulC"
      },
      "execution_count": null,
      "outputs": []
    },
    {
      "cell_type": "markdown",
      "source": [
        "# Case Study - Customer Support Function - Categorisation and resolution of Tickets raised"
      ],
      "metadata": {
        "id": "mgyTTMiVQBHi"
      }
    },
    {
      "cell_type": "code",
      "source": [
        "first_customer_support_ticket= '''Dear Support Team,\n",
        "\n",
        "I hope this message finds you well.\n",
        "I'm experiencing difficulties accessing my account on your platform.\n",
        "When I attempt to log in, I receive an error message stating, \"Invalid Credentials.\"\n",
        "I've double-checked my username and password, and they are correct.\n",
        "\n",
        "Details:\n",
        "- Username: johndoe123\n",
        "- Browser: Google Chrome\n",
        "- Operating System: Windows 10\n",
        "\n",
        "I have tried clearing my browser cache and resetting my password, but the issue persists.\n",
        "This is affecting my ability to use your services, and I would appreciate a prompt resolution.\n",
        "\n",
        "Please let me know if you require any additional information to assist with troubleshooting.\n",
        "\n",
        "Thank you,\n",
        "John Doe\n",
        "'''"
      ],
      "metadata": {
        "id": "hKxPq48mQBjx"
      },
      "execution_count": 53,
      "outputs": []
    },
    {
      "cell_type": "code",
      "source": [
        "second_customer_support_ticket='''Storage in Azure Virtual Machines\n",
        "How much storage can I use with an Azure Virtual Machine? How many disks can be attached?\n",
        "'''"
      ],
      "metadata": {
        "id": "w5WYfle-QOfs"
      },
      "execution_count": 55,
      "outputs": []
    },
    {
      "cell_type": "code",
      "source": [
        "third_customer_support_ticket='''No DCs on premises\n",
        "Hello,\n",
        "\n",
        "I am a newcomer to Azure, so I don't know if this basic question will be allowed:\n",
        "\n",
        "Imagine I have a small business but I don't want any datacenters, but I do want Active Directory.\n",
        "\n",
        "So, as far as I am reading , if I want this scenario, I should go for \"Azure Active Directory Domain Services\" .\n",
        "\n",
        "So , all the DCs would be in the cloud.\n",
        "\n",
        "Also, my on-premises Windows 10 devices couldn't get any GPOs, nor authenticate against those DCs , could they ?\n",
        "\n",
        "That is what I can't grasp.\n",
        "\n",
        "From what I am reading, the devices should be placed as VMs in Azure, so my personnel would log in to their on-premises Windows 10 machines, but then open a RDP session to their machines in the cloud ?\n",
        "\n",
        "I am sorry if this is too basic, I can't understand it.\n",
        "\n",
        "Thanks in advance.\n",
        "'''"
      ],
      "metadata": {
        "id": "Gt_oYzyGQOdV"
      },
      "execution_count": 59,
      "outputs": []
    },
    {
      "cell_type": "code",
      "source": [],
      "metadata": {
        "id": "yAh6Ty9mQOT2"
      },
      "execution_count": null,
      "outputs": []
    },
    {
      "cell_type": "markdown",
      "source": [
        "## Write Clear and Specific Instructions\n",
        "\n",
        "Example 1"
      ],
      "metadata": {
        "id": "tNV8BfEsQO3P"
      }
    },
    {
      "cell_type": "code",
      "source": [
        "user_prompt = f'classify the customer support ticket: {first_customer_support_ticket}'\n",
        "print(get_response(user_prompt))"
      ],
      "metadata": {
        "colab": {
          "base_uri": "https://localhost:8080/"
        },
        "id": "2tdjl30NQPYy",
        "outputId": "b68861cc-e19c-41fe-a92b-105188a8b54d"
      },
      "execution_count": 54,
      "outputs": [
        {
          "output_type": "stream",
          "name": "stdout",
          "text": [
            "This customer support ticket can be classified as a login/access issue.\n"
          ]
        }
      ]
    },
    {
      "cell_type": "code",
      "source": [
        "user_prompt = f'classify the customer support ticket: {second_customer_support_ticket}'\n",
        "print(get_response(user_prompt))"
      ],
      "metadata": {
        "colab": {
          "base_uri": "https://localhost:8080/"
        },
        "id": "lif-Dn1dQj3_",
        "outputId": "586a4f95-f91f-4c66-8a27-1cebb1fe2844"
      },
      "execution_count": 56,
      "outputs": [
        {
          "output_type": "stream",
          "name": "stdout",
          "text": [
            "This customer support ticket falls under the category of \"Storage in Azure Virtual Machines.\"\n"
          ]
        }
      ]
    },
    {
      "cell_type": "code",
      "source": [
        "user_prompt = f'classify the customer support ticket: {third_customer_support_ticket}'\n",
        "print(get_response(user_prompt))"
      ],
      "metadata": {
        "colab": {
          "base_uri": "https://localhost:8080/"
        },
        "id": "FNHk_qeuTvvE",
        "outputId": "3a77698e-1075-4dde-da50-f49d67a01711"
      },
      "execution_count": 60,
      "outputs": [
        {
          "output_type": "stream",
          "name": "stdout",
          "text": [
            "This customer support ticket can be classified as a question regarding Azure Active Directory Domain Services and how it can be used to manage Active Directory without any on-premises datacenters. The customer is seeking clarification on how their on-premises Windows 10 devices would interact with the cloud-based domain controllers and how users would access their machines in the cloud.\n"
          ]
        }
      ]
    },
    {
      "cell_type": "code",
      "source": [
        "user_prompt = f'''classify the customer support tickets into broad categories such as\n",
        "'Technical Issues,' 'Billing Inquiries,' and 'Product Feedback'\n",
        "{first_customer_support_ticket}'''\n",
        "\n",
        "print(get_response(user_prompt))"
      ],
      "metadata": {
        "colab": {
          "base_uri": "https://localhost:8080/"
        },
        "id": "SGZHkQVuQV4q",
        "outputId": "c134e76d-ce84-4c6d-da35-3a79c4c007da"
      },
      "execution_count": 57,
      "outputs": [
        {
          "output_type": "stream",
          "name": "stdout",
          "text": [
            "Category: Technical Issues\n"
          ]
        }
      ]
    },
    {
      "cell_type": "code",
      "source": [
        "user_prompt = f'''classify the customer support tickets into broad categories such as\n",
        "'Technical Issues,' 'Billing Inquiries,' and 'Product Feedback'\n",
        "{second_customer_support_ticket}'''\n",
        "\n",
        "print(get_response(user_prompt))"
      ],
      "metadata": {
        "colab": {
          "base_uri": "https://localhost:8080/"
        },
        "id": "nz7tf6O1TQCZ",
        "outputId": "531e5a93-703e-4f35-ccd3-47d7f1b7c359"
      },
      "execution_count": 58,
      "outputs": [
        {
          "output_type": "stream",
          "name": "stdout",
          "text": [
            "Technical Issues: Storage in Azure Virtual Machines\n",
            "Product Feedback: How much storage can I use with an Azure Virtual Machine? How many disks can be attached?\n"
          ]
        }
      ]
    },
    {
      "cell_type": "code",
      "source": [
        "user_prompt = f'''classify the customer support tickets into broad categories such as\n",
        "'Technical Issues,' 'Billing Inquiries,''Access Issues,' and 'Product Feedback'\n",
        "{third_customer_support_ticket}'''\n",
        "\n",
        "print(get_response(user_prompt))"
      ],
      "metadata": {
        "colab": {
          "base_uri": "https://localhost:8080/"
        },
        "id": "m10l-v2hTUqf",
        "outputId": "96840673-4920-4b81-af82-29e4f63ca77c"
      },
      "execution_count": 61,
      "outputs": [
        {
          "output_type": "stream",
          "name": "stdout",
          "text": [
            "Technical Issues\n"
          ]
        }
      ]
    },
    {
      "cell_type": "markdown",
      "source": [
        "Example 2"
      ],
      "metadata": {
        "id": "WIEIuQJ5UbuO"
      }
    },
    {
      "cell_type": "code",
      "source": [
        "user_prompt=f'''\n",
        "Generate a response for a customer support ticket related to a user experiencing issues\n",
        "with accessing their account.\n",
        "\n",
        "Customer Support Ticket:{first_customer_support_ticket}\n",
        "'''\n",
        "print(get_response(user_prompt))"
      ],
      "metadata": {
        "colab": {
          "base_uri": "https://localhost:8080/"
        },
        "id": "RjTVhzBAUGUW",
        "outputId": "d509501d-cf0c-409a-c6cb-00872c63faee"
      },
      "execution_count": 62,
      "outputs": [
        {
          "output_type": "stream",
          "name": "stdout",
          "text": [
            "Dear John Doe,\n",
            "\n",
            "Thank you for reaching out to us regarding the issues you are experiencing with accessing your account on our platform. We apologize for any inconvenience this may have caused.\n",
            "\n",
            "We understand the frustration of not being able to log in despite having the correct username and password. We appreciate you providing us with your username, browser, and operating system details, as this will help us in troubleshooting the issue.\n",
            "\n",
            "Since you have already tried clearing your browser cache and resetting your password without success, we recommend trying the following steps to see if it resolves the issue:\n",
            "1. Try logging in using a different browser or device to see if the problem persists.\n",
            "2. Double-check that your caps lock key is not accidentally turned on when entering your password.\n",
            "3. Ensure that there are no spaces before or after your username or password when entering them.\n",
            "\n",
            "If the issue continues to persist after trying these steps, please provide us with any additional information that you think may be relevant to help us further investigate the issue.\n",
            "\n",
            "We are committed to resolving this issue for you as quickly as possible and appreciate your patience and understanding. Please feel free to reach out to us if you have any further questions or concerns.\n",
            "\n",
            "Thank you for your cooperation.\n",
            "\n",
            "Best regards,\n",
            "[Your Name]\n",
            "Customer Support Team\n"
          ]
        }
      ]
    },
    {
      "cell_type": "code",
      "source": [
        "user_prompt=f'''\n",
        "Generate a response for a customer support ticket related to a user experiencing issues\n",
        "with accessing their account.\n",
        "\n",
        "Customer Support Ticket:{third_customer_support_ticket}\n",
        "'''\n",
        "print(get_response(user_prompt))"
      ],
      "metadata": {
        "colab": {
          "base_uri": "https://localhost:8080/"
        },
        "id": "RHGen0zqUdq0",
        "outputId": "3200c41c-b7d3-4fe4-b803-97bbc241683b"
      },
      "execution_count": 63,
      "outputs": [
        {
          "output_type": "stream",
          "name": "stdout",
          "text": [
            "Dear Customer,\n",
            "\n",
            "Thank you for reaching out to us with your questions regarding Azure Active Directory Domain Services. We understand that transitioning to a cloud-based Active Directory setup can be confusing, especially for newcomers to Azure.\n",
            "\n",
            "In the scenario you described, where you do not want any on-premises datacenters but still require Active Directory services, Azure Active Directory Domain Services would indeed be the appropriate solution. With this service, all domain controllers (DCs) would be hosted in the cloud.\n",
            "\n",
            "Regarding your concerns about on-premises Windows 10 devices not being able to receive Group Policy Objects (GPOs) or authenticate against the cloud-based DCs, it is important to note that Azure Active Directory Domain Services does support GPOs and user authentication for on-premises devices. This means that your personnel should be able to log in to their Windows 10 machines and access the necessary resources in the cloud.\n",
            "\n",
            "As for accessing the cloud-based machines, users can connect to their Azure VMs using Remote Desktop Protocol (RDP) sessions. This allows them to access their work environment in the cloud from their on-premises devices.\n",
            "\n",
            "We hope this information clarifies your doubts. If you have any further questions or need assistance with setting up Azure Active Directory Domain Services, please feel free to reach out to us. We are here to help you navigate through the process and ensure a smooth transition to the cloud.\n",
            "\n",
            "Thank you for choosing Azure for your business needs.\n",
            "\n",
            "Best regards,\n",
            "[Your Name]\n",
            "Azure Customer Support Team\n"
          ]
        }
      ]
    },
    {
      "cell_type": "code",
      "source": [
        "user_prompt= f'''Generate a response for a customer support ticket related to a user experiencing issues\n",
        "with accessing their account. Include specific details such as\n",
        "steps to troubleshoot the problem,\n",
        "reassurance about data security,\n",
        "and a prompt resolution timeline\n",
        "Customer Support Ticket:{third_customer_support_ticket}\n",
        "'''\n",
        "print(get_response(user_prompt))"
      ],
      "metadata": {
        "colab": {
          "base_uri": "https://localhost:8080/"
        },
        "id": "wOhA5GNNUiuB",
        "outputId": "f9eac53e-e950-4ad1-bcff-05b57ba055fd"
      },
      "execution_count": 64,
      "outputs": [
        {
          "output_type": "stream",
          "name": "stdout",
          "text": [
            "Hello,\n",
            "\n",
            "Thank you for reaching out to us with your question about Azure Active Directory Domain Services. We understand that transitioning to a cloud-based solution can be overwhelming, especially for newcomers to Azure.\n",
            "\n",
            "To address your concerns, here are some steps to troubleshoot the issue you are experiencing with accessing your account:\n",
            "\n",
            "1. Ensure that your Azure Active Directory Domain Services is properly configured and that all necessary settings are in place.\n",
            "2. Check the network connectivity between your on-premises Windows 10 devices and the cloud-based domain controllers.\n",
            "3. Verify that the necessary permissions and access controls are set up correctly for your users to authenticate against the cloud-based DCs.\n",
            "\n",
            "Regarding your question about on-premises Windows 10 devices not being able to get GPOs or authenticate against the cloud-based DCs, it is important to note that Azure Active Directory Domain Services allows for seamless integration between on-premises and cloud-based resources. Your Windows 10 devices should be able to authenticate against the cloud-based DCs and receive GPOs as needed.\n",
            "\n",
            "As for your personnel logging into their on-premises Windows 10 machines and then opening an RDP session to their machines in the cloud, this setup is possible but may not be necessary for all scenarios. Depending on your specific requirements, you may choose to have your personnel access their resources directly from the cloud without the need for an RDP session.\n",
            "\n",
            "Rest assured that data security is a top priority for Azure, and we have robust measures in place to protect your information and ensure compliance with industry standards.\n",
            "\n",
            "We appreciate your patience as you navigate this new environment, and we are committed to helping you resolve any issues you may encounter. If you require further assistance, please don't hesitate to reach out to us.\n",
            "\n",
            "Thank you for choosing Azure, and we look forward to assisting you with a prompt resolution to your concerns.\n",
            "\n",
            "Best regards,\n",
            "[Your Name]\n",
            "Azure Customer Support Team\n"
          ]
        }
      ]
    },
    {
      "cell_type": "code",
      "source": [],
      "metadata": {
        "id": "BDxere3rU4JC"
      },
      "execution_count": null,
      "outputs": []
    },
    {
      "cell_type": "markdown",
      "source": [
        "## Use Specific Examples\n",
        "\n",
        "Tone, Structure, Style"
      ],
      "metadata": {
        "id": "EeT56eCbU_nt"
      }
    },
    {
      "cell_type": "code",
      "source": [
        "user_prompt = f'''Compose a customer support response for a ticket\n",
        "where the customer is confused on usage of the purchased product.\n",
        "\n",
        "Customer Support Ticket:{third_customer_support_ticket}\n",
        "\n",
        "Here is an example for your reference:\n",
        "\n",
        "Dear User,\n",
        "\n",
        "Hello! Thank you for getting in touch with us, and we're really sorry for the trouble. We totally understand how frustrating this can be, and we're here to make things right.\n",
        "\n",
        "The first thing you need to do is understand what capabilities of AD you actually need. If you just need domain join, then you can use AAD Domain Join for Win 10 machines. If you need device management, like GPO, then you can look at adding InTune to that, and so on. It may be that you don't need full AD at all.\n",
        "\n",
        "If you decide you do need full AD then think carefully about AAD DS. Whilst this can provide domain controllers as a PaaS service, it wasn't designed to replace your on-prem domain controllers. It has a number of limitations, some of which I talk about [here][1], so you need to make sure you are OK with those. You will also need a persistent, VPN or Express Route connection to the Azure vNet that hosts AAD DS to be able to service you machines.\n",
        "\n",
        "To answer your specific questions, yes you can authenticate your machines against AAD DS and use group policy.\n",
        "\n",
        "You could also consider running IaaS VMs as domain controllers.\n",
        "\n",
        "Let us know how it goes or if you have any questions.\n",
        "We're here for you and are committed to fixing this as fast as we can.\n",
        "\n",
        "Warm regards,\n",
        "\n",
        "[Your Name]\n",
        "Customer Support Team\n",
        "'''\n",
        "\n",
        "print(get_response(user_prompt))"
      ],
      "metadata": {
        "colab": {
          "base_uri": "https://localhost:8080/"
        },
        "id": "ITAOcywwVAQO",
        "outputId": "6366234f-03c8-4003-af70-7f272babe59d"
      },
      "execution_count": 67,
      "outputs": [
        {
          "output_type": "stream",
          "name": "stdout",
          "text": [
            "Dear Customer,\n",
            "\n",
            "Thank you for reaching out to us with your questions about Azure Active Directory Domain Services. We understand that navigating a new platform like Azure can be overwhelming, especially when it comes to setting up and managing Active Directory in the cloud.\n",
            "\n",
            "Based on your scenario, if you want to have Active Directory without any on-premises datacenters, Azure Active Directory Domain Services (AAD DS) is indeed the solution you should be looking at. With AAD DS, you can have domain controllers in the cloud and manage your directory services without the need for physical infrastructure.\n",
            "\n",
            "Regarding your concerns about on-premises Windows 10 devices not being able to get GPOs or authenticate against the cloud-based DCs, rest assured that it is possible to achieve this with AAD DS. Your Windows 10 devices can join the domain hosted in Azure and receive group policies just like they would in an on-premises environment.\n",
            "\n",
            "As for accessing the resources in the cloud, you are correct that users can log in to their on-premises Windows 10 machines and then establish an RDP session to access their VMs in Azure. This setup allows for seamless integration between on-premises and cloud resources.\n",
            "\n",
            "We understand that this may seem complex, especially for someone new to Azure, but we are here to help you every step of the way. If you have any further questions or need assistance with setting up AAD DS for your business, please don't hesitate to reach out to us.\n",
            "\n",
            "Thank you for choosing Azure, and we look forward to helping you make the most of your cloud services.\n",
            "\n",
            "Best regards,\n",
            "\n",
            "[Your Name]\n",
            "Customer Support Team\n"
          ]
        }
      ]
    },
    {
      "cell_type": "markdown",
      "source": [
        "\n",
        "## Vary the Prompts and Iterate"
      ],
      "metadata": {
        "id": "V35i5LwrWyE8"
      }
    },
    {
      "cell_type": "code",
      "source": [
        "user_prompt = f'''Compose a customer support response for a ticket where\n",
        "the customer reports a technical issue with a purchased product.\n",
        "\n",
        "Customer Support Ticket:{first_customer_support_ticket}'''\n",
        "\n",
        "print(get_response(user_prompt))"
      ],
      "metadata": {
        "colab": {
          "base_uri": "https://localhost:8080/"
        },
        "id": "GegiixgKWBXq",
        "outputId": "d8be604e-885d-4025-d745-785d66b11b61"
      },
      "execution_count": 68,
      "outputs": [
        {
          "output_type": "stream",
          "name": "stdout",
          "text": [
            "Dear John Doe,\n",
            "\n",
            "Thank you for reaching out to us regarding the technical issue you are experiencing with accessing your account on our platform. We apologize for any inconvenience this may have caused.\n",
            "\n",
            "We appreciate you providing us with your username, browser, and operating system details. We will investigate this matter further to identify the root cause of the \"Invalid Credentials\" error message you are encountering.\n",
            "\n",
            "In the meantime, we recommend trying to access your account using a different browser or device to see if the issue persists. Additionally, please ensure that your internet connection is stable and that there are no firewall or security settings blocking access to our platform.\n",
            "\n",
            "If the issue continues, please let us know, and we will work diligently to resolve it as quickly as possible. Thank you for your patience and understanding.\n",
            "\n",
            "Best regards,\n",
            "[Your Name]\n",
            "Customer Support Team\n"
          ]
        }
      ]
    },
    {
      "cell_type": "code",
      "source": [
        "user_prompt = f'''Compose a customer support response for a ticket where\n",
        "the customer reports a technical issue with a purchased product with a more formal and professional tone.\n",
        "\n",
        "Customer Support Ticket:{first_customer_support_ticket}'''\n",
        "\n",
        "print(get_response(user_prompt))"
      ],
      "metadata": {
        "colab": {
          "base_uri": "https://localhost:8080/"
        },
        "id": "RXTWxawgW0wZ",
        "outputId": "6003d68d-b4e1-4b76-a8a3-89a195a40cdb"
      },
      "execution_count": 69,
      "outputs": [
        {
          "output_type": "stream",
          "name": "stdout",
          "text": [
            "Dear John Doe,\n",
            "\n",
            "Thank you for reaching out to our support team regarding the technical issue you are experiencing with accessing your account on our platform. We apologize for any inconvenience this may have caused.\n",
            "\n",
            "We appreciate the detailed information you have provided, including your username, browser, and operating system. We understand the importance of resolving this issue promptly to ensure you can continue to use our services without any interruptions.\n",
            "\n",
            "Our technical team is currently investigating the issue and will work to identify and resolve the root cause as soon as possible. In the meantime, we recommend trying to access your account from a different browser or device to see if the issue persists.\n",
            "\n",
            "If you have any additional information or details that may help us troubleshoot the issue more effectively, please do not hesitate to share them with us.\n",
            "\n",
            "Thank you for your patience and understanding. We will provide you with an update as soon as we have more information on the resolution of this issue.\n",
            "\n",
            "Best regards,\n",
            "\n",
            "[Your Name]\n",
            "Customer Support Team\n"
          ]
        }
      ]
    },
    {
      "cell_type": "code",
      "source": [
        "user_prompt = f'''Compose a customer support response for a ticket where\n",
        "the customer reports a technical issue with a purchased product with a more formal and professional tone.\n",
        "Maintain a focus on providing clear instructions while expressing empathy for the inconvenience caused.\n",
        "Use a structured approach and avoid informal language\n",
        "\n",
        "Customer Support Ticket:{first_customer_support_ticket}'''\n",
        "\n",
        "print(get_response(user_prompt))"
      ],
      "metadata": {
        "colab": {
          "base_uri": "https://localhost:8080/"
        },
        "id": "uopyErj9W9fW",
        "outputId": "edd85147-2bf0-4217-ded2-fc3e2e31fcdd"
      },
      "execution_count": 70,
      "outputs": [
        {
          "output_type": "stream",
          "name": "stdout",
          "text": [
            "Dear John Doe,\n",
            "\n",
            "Thank you for reaching out to us regarding the technical issue you are experiencing with accessing your account on our platform. We sincerely apologize for any inconvenience this may have caused you.\n",
            "\n",
            "Based on the information you have provided, it seems that you have already taken some troubleshooting steps such as clearing your browser cache and resetting your password. We appreciate your efforts in trying to resolve the issue on your end.\n",
            "\n",
            "To further assist you, we recommend trying the following steps:\n",
            "1. Ensure that you are entering your username and password correctly, paying attention to any capitalization or special characters.\n",
            "2. Try accessing your account using a different web browser or device to see if the issue persists.\n",
            "3. If the issue continues, please reach out to our support team at [support email or phone number] with the additional information requested.\n",
            "\n",
            "We understand the importance of resolving this matter promptly and will do our best to assist you in accessing your account as soon as possible. Thank you for your patience and understanding.\n",
            "\n",
            "Best regards,\n",
            "[Your Name]\n",
            "Customer Support Team\n"
          ]
        }
      ]
    },
    {
      "cell_type": "markdown",
      "source": [
        "##4.Use the Delimiters"
      ],
      "metadata": {
        "id": "3HIlrt4vXOg8"
      }
    },
    {
      "cell_type": "code",
      "source": [
        "customer_support_tickets=['''Dear Support Team,\n",
        "\n",
        "I hope this message finds you well.\n",
        "I'm experiencing difficulties accessing my account on your platform.\n",
        "When I attempt to log in, I receive an error message stating, \"Invalid Credentials.\"\n",
        "I've double-checked my username and password, and they are correct.\n",
        "\n",
        "Details:\n",
        "- Username: johndoe123\n",
        "- Browser: Google Chrome\n",
        "- Operating System: Windows 10\n",
        "\n",
        "I have tried clearing my browser cache and resetting my password, but the issue persists.\n",
        "This is affecting my ability to use your services, and I would appreciate a prompt resolution.\n",
        "\n",
        "Please let me know if you require any additional information to assist with troubleshooting.\n",
        "\n",
        "Thank you,\n",
        "John Doe'''\n",
        ",\n",
        "'''\n",
        "Dear Support Team,\n",
        "I'm conveyed about my bill and have raised this multile times for last 3 months.\n",
        "Please resolve it on priority'''\n",
        "]"
      ],
      "metadata": {
        "id": "HJI9W99_Xny0"
      },
      "execution_count": 74,
      "outputs": []
    },
    {
      "cell_type": "code",
      "source": [
        "user_prompt = '''classify the customer support tickets into broad categories such as 'Technical Issues,' 'Billing Inquiries,' and 'Product Feedback.\n",
        "\n",
        "[Dear Support Team,\n",
        "\n",
        "I hope this message finds you well.\n",
        "I'm experiencing difficulties accessing my account on your platform.\n",
        "When I attempt to log in, I receive an error message stating, \"Invalid Credentials.\"\n",
        "I've double-checked my username and password, and they are correct.\n",
        "\n",
        "Details:\n",
        "- Username: johndoe123\n",
        "- Browser: Google Chrome\n",
        "- Operating System: Windows 10\n",
        "\n",
        "I have tried clearing my browser cache and resetting my password, but the issue persists.\n",
        "This is affecting my ability to use your services, and I would appreciate a prompt resolution.\n",
        "\n",
        "Please let me know if you require any additional information to assist with troubleshooting.\n",
        "\n",
        "Thank you,\n",
        "John Doe\n",
        ",\n",
        "\n",
        "Dear Support Team,\n",
        "I'm conveyed about my bill and have raised this multile times for last 3 months.\n",
        "Please resolve it on priority\n",
        "]'''"
      ],
      "metadata": {
        "id": "BlyTP7IgXHVQ"
      },
      "execution_count": 71,
      "outputs": []
    },
    {
      "cell_type": "code",
      "source": [
        "print(get_response(user_prompt))"
      ],
      "metadata": {
        "colab": {
          "base_uri": "https://localhost:8080/"
        },
        "id": "D4iVH4wlXUAD",
        "outputId": "13f3f287-5ba0-4c1c-d2c0-6628c1d6a3d3"
      },
      "execution_count": 72,
      "outputs": [
        {
          "output_type": "stream",
          "name": "stdout",
          "text": [
            "Technical Issues: \n",
            "- Difficulty accessing account on platform\n",
            "- Error message stating \"Invalid Credentials\"\n",
            "- Troubleshooting steps taken (clearing browser cache, resetting password)\n",
            "\n",
            "Billing Inquiries:\n",
            "- Issue with bill for the past 3 months\n",
            "- Request for prompt resolution\n",
            "\n",
            "Product Feedback:\n",
            "- Not mentioned in the provided customer support tickets\n"
          ]
        }
      ]
    },
    {
      "cell_type": "code",
      "source": [
        "user_prompt = '''classify all the customer support tickets within <> into\n",
        "broad categories such as 'Technical Issues,' 'Billing Inquiries,' and 'Product Feedback.\n",
        "\n",
        "<Dear Support Team,\n",
        "\n",
        "I hope this message finds you well.\n",
        "I'm experiencing difficulties accessing my account on your platform.\n",
        "When I attempt to log in, I receive an error message stating, \"Invalid Credentials.\"\n",
        "I've double-checked my username and password, and they are correct.\n",
        "\n",
        "Details:\n",
        "- Username: johndoe123\n",
        "- Browser: Google Chrome\n",
        "- Operating System: Windows 10\n",
        "\n",
        "I have tried clearing my browser cache and resetting my password, but the issue persists.\n",
        "This is affecting my ability to use your services, and I would appreciate a prompt resolution.\n",
        "\n",
        "Please let me know if you require any additional information to assist with troubleshooting.\n",
        "\n",
        "Thank you,\n",
        "John Doe>\n",
        "\n",
        "<Dear Support Team,\n",
        "I'm conveyed about my bill and have raised this multile times for last 3 months. Please resolve it on priority>\n",
        "'''\n",
        "print(get_response(user_prompt))"
      ],
      "metadata": {
        "colab": {
          "base_uri": "https://localhost:8080/"
        },
        "id": "s0ZVQ62vXVeG",
        "outputId": "799f092c-d340-4f30-e721-af872d420fa0"
      },
      "execution_count": 73,
      "outputs": [
        {
          "output_type": "stream",
          "name": "stdout",
          "text": [
            "1. Technical Issues: \n",
            "- Difficulty accessing account due to \"Invalid Credentials\" error message\n",
            "- Browser and operating system details provided for troubleshooting\n",
            "\n",
            "2. Billing Inquiries:\n",
            "- Concerns about billing and repeated issues raised over the past 3 months\n"
          ]
        }
      ]
    },
    {
      "cell_type": "code",
      "source": [
        "for customer_support_ticket in customer_support_tickets:\n",
        "\n",
        "  user_prompt = f'''classify the customer support ticket delimited by <> into broad categories\n",
        "  such as Technical Issues, Billing Inquiries, and Product Feedback <{customer_support_ticket}>\n",
        "  '''\n",
        "\n",
        "  print(get_response(user_prompt))"
      ],
      "metadata": {
        "colab": {
          "base_uri": "https://localhost:8080/"
        },
        "id": "I7g0KaTWXcai",
        "outputId": "5676042b-aa71-4dbd-d613-e08bbc0eddee"
      },
      "execution_count": 75,
      "outputs": [
        {
          "output_type": "stream",
          "name": "stdout",
          "text": [
            "Technical Issues\n",
            "Category: Billing Inquiries\n"
          ]
        }
      ]
    },
    {
      "cell_type": "markdown",
      "source": [
        "## Specify Structured Output Formats"
      ],
      "metadata": {
        "id": "y1cjBRtEX7gm"
      }
    },
    {
      "cell_type": "code",
      "source": [
        "user_prompt = f'''\n",
        "Extract JSON information from the customer support ticket.\n",
        "\n",
        "Given the following ticket content:\n",
        "\n",
        "{first_customer_support_ticket}\n",
        "\n",
        "Please provide the JSON representation of essential details such as:\n",
        "- Username\n",
        "- Browser\n",
        "- Operating System\n",
        "\n",
        "Ensure the JSON format includes key-value pairs for each detail.\n",
        "'''\n",
        "print(get_response(user_prompt))"
      ],
      "metadata": {
        "colab": {
          "base_uri": "https://localhost:8080/"
        },
        "id": "5eMtGRubX2LU",
        "outputId": "52de03d3-3235-42de-cf43-2c371bf78186"
      },
      "execution_count": 76,
      "outputs": [
        {
          "output_type": "stream",
          "name": "stdout",
          "text": [
            "{\n",
            "  \"Username\": \"johndoe123\",\n",
            "  \"Browser\": \"Google Chrome\",\n",
            "  \"Operating System\": \"Windows 10\"\n",
            "}\n"
          ]
        }
      ]
    },
    {
      "cell_type": "markdown",
      "source": [
        "#6.Use Temperature Parameter\n",
        "\n",
        "Low Temperature defines the deterministic outputs"
      ],
      "metadata": {
        "id": "yHkoma8gYEDS"
      }
    },
    {
      "cell_type": "code",
      "source": [
        "user_prompt = \"Generate 10 brand names for e learning in data science.\"\n",
        "print(get_response(user_prompt,0))"
      ],
      "metadata": {
        "colab": {
          "base_uri": "https://localhost:8080/"
        },
        "id": "2ZDCNkx7X2JV",
        "outputId": "28871c55-a1be-483d-9a08-ca46e5ba26dd"
      },
      "execution_count": 77,
      "outputs": [
        {
          "output_type": "stream",
          "name": "stdout",
          "text": [
            "1. DataWise Academy\n",
            "2. DataMastery Institute\n",
            "3. DataPro Learning\n",
            "4. DataGenius University\n",
            "5. DataCrafters Academy\n",
            "6. DataElite Institute\n",
            "7. DataSphere Learning\n",
            "8. DataXpert Academy\n",
            "9. DataNinja University\n",
            "10. DataSavvy Institute\n"
          ]
        }
      ]
    },
    {
      "cell_type": "code",
      "source": [
        "user_prompt = \"Generate 10 brand names for e learning in data science.\"\n",
        "print(get_response(user_prompt,0))"
      ],
      "metadata": {
        "colab": {
          "base_uri": "https://localhost:8080/"
        },
        "id": "st5pjZk6X2Gy",
        "outputId": "89bdf490-7311-4bdd-d24c-92223591ba2a"
      },
      "execution_count": 78,
      "outputs": [
        {
          "output_type": "stream",
          "name": "stdout",
          "text": [
            "1. DataWise Academy\n",
            "2. DataMinds Institute\n",
            "3. DataPro Learning\n",
            "4. AnalyticEdge University\n",
            "5. DataCrafters Academy\n",
            "6. Insightful Learning Hub\n",
            "7. DataSphere Institute\n",
            "8. DataGenius Academy\n",
            "9. DataMaster Institute\n",
            "10. DataSavvy Learning Center\n"
          ]
        }
      ]
    },
    {
      "cell_type": "markdown",
      "source": [
        "High Temperature defines the non-deterministic outputs"
      ],
      "metadata": {
        "id": "kuJ6kyyNYMek"
      }
    },
    {
      "cell_type": "code",
      "source": [
        "user_prompt = \"Generate 10 brand names for e learning in data science.\"\n",
        "print(get_response(user_prompt,1))"
      ],
      "metadata": {
        "colab": {
          "base_uri": "https://localhost:8080/"
        },
        "id": "-tIEpva3X2Dz",
        "outputId": "e044e4c4-84b0-4c83-a461-3ebf31d69b3d"
      },
      "execution_count": 79,
      "outputs": [
        {
          "output_type": "stream",
          "name": "stdout",
          "text": [
            "1. DataVantage\n",
            "2. DataMaven\n",
            "3. InsightsIQ\n",
            "4. Bitwise Academy\n",
            "5. DataSphere Education\n",
            "6. DataPro Learning\n",
            "7. Analytix Academy\n",
            "8. CipherTech Institute\n",
            "9. DataWise Learning\n",
            "10. TechAxion Academy\n"
          ]
        }
      ]
    },
    {
      "cell_type": "code",
      "source": [
        "user_prompt = \"Generate 10 brand names for e learning in data science.\"\n",
        "print(get_response(user_prompt,1))"
      ],
      "metadata": {
        "colab": {
          "base_uri": "https://localhost:8080/"
        },
        "id": "f9NedtKsX2BL",
        "outputId": "8efcefb2-eb54-400d-aa55-bdd0d848b938"
      },
      "execution_count": 80,
      "outputs": [
        {
          "output_type": "stream",
          "name": "stdout",
          "text": [
            "1. DataProfs Academy\n",
            "2. DataMentor Institute\n",
            "3. TechByte Learning\n",
            "4. DataVerse University\n",
            "5. DataSavvy Academy\n",
            "6. DataNinja Institute\n",
            "7. BitLearn Data Science\n",
            "8. DataWise Learning\n",
            "9. TechData Institute\n",
            "10. DataHub Academy\n"
          ]
        }
      ]
    },
    {
      "cell_type": "code",
      "source": [
        "user_prompt = f'''Compose a customer support response for a ticket where\n",
        "the customer reports a accessing issue with a purchased product.\n",
        "\n",
        "Customer Support Ticket:{third_customer_support_ticket}'''\n",
        "\n",
        "print(get_response(user_prompt,0))"
      ],
      "metadata": {
        "colab": {
          "base_uri": "https://localhost:8080/"
        },
        "id": "whv7W0lcX173",
        "outputId": "7e862e35-6631-44fb-8175-61249e509c43"
      },
      "execution_count": 81,
      "outputs": [
        {
          "output_type": "stream",
          "name": "stdout",
          "text": [
            "Dear Customer,\n",
            "\n",
            "Thank you for reaching out to us with your question regarding Azure Active Directory Domain Services. We understand that transitioning to a cloud-based solution like this can be overwhelming, especially for newcomers to Azure.\n",
            "\n",
            "To address your concerns, Azure Active Directory Domain Services allows you to have domain controllers in the cloud without the need for on-premises datacenters. This means that your Windows 10 devices can indeed authenticate against these cloud-based domain controllers and receive Group Policy Objects (GPOs) as needed.\n",
            "\n",
            "In order to access these cloud-based resources, your personnel would not necessarily need to open an RDP session to their machines in the cloud. Instead, they can simply log in to their on-premises Windows 10 devices and access the necessary resources through Azure Active Directory.\n",
            "\n",
            "If you are still having trouble understanding how this setup works, we recommend reaching out to our Azure support team for further assistance. They can provide you with more detailed guidance and help you navigate through the process of setting up Azure Active Directory Domain Services for your small business.\n",
            "\n",
            "We appreciate your patience and willingness to learn about Azure services. Please don't hesitate to contact us if you have any more questions or need additional support.\n",
            "\n",
            "Thank you for choosing Azure.\n",
            "\n",
            "Best regards,\n",
            "Customer Support Team\n"
          ]
        }
      ]
    },
    {
      "cell_type": "code",
      "source": [
        "user_prompt = f'''Compose a customer support response for a ticket where\n",
        "the customer reports a accessing issue with a purchased product.\n",
        "\n",
        "Customer Support Ticket:{third_customer_support_ticket}'''\n",
        "\n",
        "print(get_response(user_prompt,1))"
      ],
      "metadata": {
        "colab": {
          "base_uri": "https://localhost:8080/"
        },
        "id": "wQVaaj-3X15D",
        "outputId": "b8ab114f-081e-4534-cc1d-2128ae29b623"
      },
      "execution_count": 82,
      "outputs": [
        {
          "output_type": "stream",
          "name": "stdout",
          "text": [
            "Dear Customer,\n",
            "\n",
            "Thank you for reaching out to us with your question about Azure Active Directory Domain Services and accessing issues with your cloud-based data centers.\n",
            "\n",
            "It sounds like you are interested in utilizing Azure Active Directory Domain Services to host all of your domain controllers in the cloud rather than having any on-premises data centers. This is a common scenario for businesses looking to leverage the benefits of cloud technology.\n",
            "\n",
            "Regarding your concern about on-premises Windows 10 devices not being able to receive Group Policy Objects (GPOs) or authenticate against the cloud-hosted domain controllers, it is important to note that Azure Active Directory Domain Services is designed to provide cloud-based domain services that are fully compatible with on-premises Active Directory. This means that your devices should be able to connect to and authenticate against the cloud-based domain controllers without any issues.\n",
            "\n",
            "As for your personnel logging in to their on-premises Windows 10 machines and then connecting to their machines in the cloud via a remote desktop session, this is one way to access resources hosted in Azure. By placing your devices as virtual machines in Azure, your personnel can securely access their resources from anywhere with an internet connection.\n",
            "\n",
            "If you are still experiencing issues with accessing GPOs or authenticating against the cloud-hosted domain controllers, please provide us with more specific details about the problem so that we can assist you further. We are here to help and ensure that your experience with Azure Active Directory Domain Services is a smooth and seamless one.\n",
            "\n",
            "Thank you for your patience and understanding.\n",
            "\n",
            "Sincerely,\n",
            "[Your Name]\n",
            "Azure Customer Support Team\n"
          ]
        }
      ]
    },
    {
      "cell_type": "code",
      "source": [],
      "metadata": {
        "id": "ShwHFD8TX12T"
      },
      "execution_count": null,
      "outputs": []
    },
    {
      "cell_type": "markdown",
      "source": [
        "In summary, keep in mind the following best practices to craft effective prompts\n",
        "\n",
        "1.   Write Clear and Specific Instructions\n",
        "2.   Use Specific Examples\n",
        "3.   Vary the Prompts\n",
        "4.   Use the Delimiters\n",
        "5.   Specify structured output formats\n",
        "6.   Use Temperature Parameter"
      ],
      "metadata": {
        "id": "_k4YXQM4X3Ls"
      }
    },
    {
      "cell_type": "code",
      "source": [],
      "metadata": {
        "id": "gOZDuaNeXrpA"
      },
      "execution_count": null,
      "outputs": []
    }
  ],
  "metadata": {
    "colab": {
      "provenance": [],
      "authorship_tag": "ABX9TyM3vCnZi+0e6z8zFAuCH0H8",
      "include_colab_link": true
    },
    "kernelspec": {
      "display_name": "Python 3",
      "name": "python3"
    },
    "language_info": {
      "name": "python"
    }
  },
  "nbformat": 4,
  "nbformat_minor": 0
}